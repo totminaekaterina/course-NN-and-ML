{
  "nbformat": 4,
  "nbformat_minor": 0,
  "metadata": {
    "colab": {
      "provenance": []
    },
    "kernelspec": {
      "name": "python3",
      "display_name": "Python 3"
    },
    "language_info": {
      "name": "python"
    }
  },
  "cells": [
    {
      "cell_type": "markdown",
      "source": [
        "## Задание 9"
      ],
      "metadata": {
        "id": "EHSplQD7zwYz"
      }
    },
    {
      "cell_type": "code",
      "execution_count": 13,
      "metadata": {
        "id": "v15IihmLy0_u"
      },
      "outputs": [],
      "source": [
        "import numpy as np\n",
        "from sklearn.datasets import load_digits\n",
        "\n",
        "from sklearn.model_selection import train_test_split\n",
        "from sklearn.preprocessing import OneHotEncoder\n",
        "\n",
        "\n",
        "import matplotlib.pyplot as plt\n",
        "from sklearn.neighbors import KNeighborsClassifier\n",
        "from sklearn.metrics import accuracy_score"
      ]
    },
    {
      "cell_type": "code",
      "source": [
        "# звгрузка данных\n",
        "digits = load_digits()\n",
        "X, y = digits.data, digits.target\n",
        "\n",
        "# Нормализаця данных\n",
        "X /= 16.0\n",
        "\n",
        "X_train, X_test, y_train, y_test = train_test_split(X, y, test_size=0.2, random_state=42)"
      ],
      "metadata": {
        "id": "wLGefCsBy89B"
      },
      "execution_count": 9,
      "outputs": []
    },
    {
      "cell_type": "markdown",
      "source": [
        "10 перцептронов, класифицирующх цифры \"эта цифра / другая цифра\""
      ],
      "metadata": {
        "id": "sfJ0RlzyzSLQ"
      }
    },
    {
      "cell_type": "code",
      "source": [
        "class Perceptron:\n",
        "    def __init__(self, input_size, learning_rate=0.01):\n",
        "        self.weights = np.random.uniform(0, 1, input_size)\n",
        "        self.bias = np.random.uniform(0, 1)\n",
        "        self.learning_rate = learning_rate\n",
        "\n",
        "    def activation(self, x):\n",
        "        return 1 if x >= 0 else 0\n",
        "\n",
        "    def predict(self, x):\n",
        "        return self.activation(np.dot(self.weights, x) + self.bias)\n",
        "\n",
        "    def fit(self, X, y, epochs=10):\n",
        "        for epoch in range(epochs):\n",
        "            for i in range(len(X)):\n",
        "                y_pred = self.predict(X[i])\n",
        "                error = y[i] - y_pred\n",
        "                # Обновление весов и смещения\n",
        "                self.weights += self.learning_rate * error * X[i]\n",
        "                self.bias += self.learning_rate * error\n",
        "\n",
        "# Создание и обучение 10 перцептронов для каждой цифры\n",
        "perceptrons = [Perceptron(input_size=X.shape[1]) for _ in range(10)]"
      ],
      "metadata": {
        "id": "5usKIY6-zMgz"
      },
      "execution_count": 10,
      "outputs": []
    },
    {
      "cell_type": "code",
      "source": [
        "for digit in range(10):\n",
        "    y_binary = (y_train == digit).astype(int)  # эта цифра / не эта цифра\n",
        "    perceptrons[digit].fit(X_train, y_binary)\n",
        "\n",
        "correct = 0\n",
        "for i in range(len(X_test)):\n",
        "    predictions = [perceptrons[d].predict(X_test[i]) for d in range(10)]\n",
        "    predicted_label = np.argmax(predictions)\n",
        "    if predicted_label == y_test[i]:\n",
        "        correct += 1\n",
        "\n",
        "print(f\"Accuracy для 10 перцептронов: {correct / len(X_test):.2f}\")"
      ],
      "metadata": {
        "colab": {
          "base_uri": "https://localhost:8080/"
        },
        "id": "5p9l3YWYy867",
        "outputId": "8282d12f-62bc-434d-dd2e-b785ca6c6635"
      },
      "execution_count": 11,
      "outputs": [
        {
          "output_type": "stream",
          "name": "stdout",
          "text": [
            "Accuracy для 10 перцептронов: 0.89\n"
          ]
        }
      ]
    },
    {
      "cell_type": "markdown",
      "source": [
        "## Задание 10"
      ],
      "metadata": {
        "id": "jZ0WdllZzuDw"
      }
    },
    {
      "cell_type": "code",
      "source": [
        "# Обучение и оценка метода KNN\n",
        "knn = KNeighborsClassifier(n_neighbors=3)\n",
        "knn.fit(X_train, y_train)\n",
        "y_pred_knn = knn.predict(X_test)\n",
        "accuracy_knn = accuracy_score(y_test, y_pred_knn)\n",
        "print(f\"Accuracy для knn: {accuracy_knn:.2f}\")"
      ],
      "metadata": {
        "colab": {
          "base_uri": "https://localhost:8080/"
        },
        "id": "6iDDZC2uy82L",
        "outputId": "42914c3c-341b-4a8e-df33-8d415fc4e0d6"
      },
      "execution_count": 15,
      "outputs": [
        {
          "output_type": "stream",
          "name": "stdout",
          "text": [
            "Accuracy для knn: 0.98\n"
          ]
        }
      ]
    },
    {
      "cell_type": "code",
      "source": [
        "# Оценка отдельного перцептрона\n",
        "# Используем конкретный перцептрон под номером, например, 0\n",
        "perceptron_index = 0\n",
        "correct_single = 0\n",
        "for i in range(len(X_test)):\n",
        "    y_pred = perceptrons[perceptron_index].predict(X_test[i])\n",
        "    if (y_pred == 1 and y_test[i] == perceptron_index) or (y_pred == 0 and y_test[i] != perceptron_index):\n",
        "        correct_single += 1\n",
        "\n",
        "accuracy_single_perceptron = correct_single / len(X_test)\n",
        "print(f\"Accuracy для отдельного перцептрона №{perceptron_index}: {accuracy_single_perceptron:.2f}\")\n"
      ],
      "metadata": {
        "colab": {
          "base_uri": "https://localhost:8080/"
        },
        "id": "cX6dv_Sy04Sq",
        "outputId": "317bd46e-8848-4d97-8acc-d44cf8980588"
      },
      "execution_count": 21,
      "outputs": [
        {
          "output_type": "stream",
          "name": "stdout",
          "text": [
            "Accuracy для отдельного перцептрона №0: 0.99\n"
          ]
        }
      ]
    },
    {
      "cell_type": "markdown",
      "source": [
        "## Здание 11"
      ],
      "metadata": {
        "id": "59IGPBs-2Hsg"
      }
    },
    {
      "cell_type": "code",
      "source": [
        "from sklearn.neural_network import MLPRegressor\n",
        "from sklearn.model_selection import GridSearchCV\n",
        "from sklearn.metrics import mean_squared_error\n",
        "from sklearn.preprocessing import StandardScaler"
      ],
      "metadata": {
        "id": "_HrUP8UC2J0W"
      },
      "execution_count": 2,
      "outputs": []
    },
    {
      "cell_type": "code",
      "source": [
        "# данные\n",
        "np.random.seed(42)\n",
        "x = np.linspace(0, 1, 100).reshape(-1, 1)\n",
        "\n",
        "# аппроксимация\n",
        "def f1(x):\n",
        "    return np.cos(2 * np.pi * x)\n",
        "\n",
        "y1 = f1(x) + np.random.normal(0, 0.1, size=x.shape)"
      ],
      "metadata": {
        "id": "G3Icu0nA3Uu5"
      },
      "execution_count": 3,
      "outputs": []
    },
    {
      "cell_type": "code",
      "source": [
        "X_train, X_test, y_train, y_test = train_test_split(x, y1, test_size=0.2, random_state=42)\n",
        "\n",
        "scaler = StandardScaler()\n",
        "X_train = scaler.fit_transform(X_train)\n",
        "X_test = scaler.transform(X_test)"
      ],
      "metadata": {
        "id": "oTpbMWyi3dNt"
      },
      "execution_count": 4,
      "outputs": []
    },
    {
      "cell_type": "code",
      "source": [
        "mlp = MLPRegressor(max_iter=5000, random_state=42)\n",
        "\n",
        "# варианты параметров\n",
        "param_grid = {\n",
        "    'hidden_layer_sizes': [(h1,) for h1 in range(1, 4)] + [(h1, h2) for h1 in range(1, 4) for h2 in range(1, 4)],\n",
        "    'activation': ['relu', 'tanh'],\n",
        "    'learning_rate_init': [0.01, 0.001]\n",
        "}"
      ],
      "metadata": {
        "id": "7m-LgLCL3UxO"
      },
      "execution_count": 5,
      "outputs": []
    },
    {
      "cell_type": "code",
      "source": [
        "grid_search = GridSearchCV(mlp, param_grid, cv=5, scoring='neg_mean_squared_error')\n",
        "grid_search.fit(X_train, y_train.ravel())\n",
        "\n",
        "# Лучшая модель\n",
        "best_mlp = grid_search.best_estimator_\n",
        "y_pred = best_mlp.predict(X_test)\n",
        "mse = mean_squared_error(y_test, y_pred)"
      ],
      "metadata": {
        "id": "DfxZuw6r2Pm7"
      },
      "execution_count": 6,
      "outputs": []
    },
    {
      "cell_type": "code",
      "source": [
        "print(f\"Best params: {grid_search.best_params_}\")\n",
        "print(f\"MSE: {mse:.2f}\")\n",
        "plt.figure()\n",
        "plt.scatter(X_test, y_test, color='red', label='test data')\n",
        "plt.plot(X_test, y_pred, color='blue', label='prediction')\n",
        "plt.title('Аппроксимация f1')\n",
        "plt.legend()\n",
        "plt.show()"
      ],
      "metadata": {
        "colab": {
          "base_uri": "https://localhost:8080/",
          "height": 488
        },
        "id": "4iYcTYJF3y_t",
        "outputId": "6d028875-f63b-428c-8633-5d06a4a383f8"
      },
      "execution_count": 8,
      "outputs": [
        {
          "output_type": "stream",
          "name": "stdout",
          "text": [
            "Best params: {'activation': 'tanh', 'hidden_layer_sizes': (3, 3), 'learning_rate_init': 0.01}\n",
            "MSE: 0.01\n"
          ]
        },
        {
          "output_type": "display_data",
          "data": {
            "text/plain": [
              "<Figure size 640x480 with 1 Axes>"
            ],
            "image/png": "[encoded data removed]"
          },
          "metadata": {}
        }
      ]
    },
    {
      "cell_type": "code",
      "source": [],
      "metadata": {
        "id": "xqrzjSst2PpR"
      },
      "execution_count": null,
      "outputs": []
    },
    {
      "cell_type": "code",
      "source": [],
      "metadata": {
        "id": "mN2QNv6E2Pro"
      },
      "execution_count": null,
      "outputs": []
    },
    {
      "cell_type": "code",
      "source": [],
      "metadata": {
        "id": "Lzha9qo62Ptl"
      },
      "execution_count": null,
      "outputs": []
    }
  ]
}