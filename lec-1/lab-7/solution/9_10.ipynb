{
  "nbformat": 4,
  "nbformat_minor": 0,
  "metadata": {
    "colab": {
      "provenance": []
    },
    "kernelspec": {
      "name": "python3",
      "display_name": "Python 3"
    },
    "language_info": {
      "name": "python"
    }
  },
  "cells": [
    {
      "cell_type": "markdown",
      "source": [
        "## Задание 9"
      ],
      "metadata": {
        "id": "EHSplQD7zwYz"
      }
    },
    {
      "cell_type": "code",
      "execution_count": 13,
      "metadata": {
        "id": "v15IihmLy0_u"
      },
      "outputs": [],
      "source": [
        "import numpy as np\n",
        "from sklearn.datasets import load_digits\n",
        "\n",
        "from sklearn.model_selection import train_test_split\n",
        "from sklearn.preprocessing import OneHotEncoder\n",
        "\n",
        "\n",
        "import matplotlib.pyplot as plt\n",
        "from sklearn.neighbors import KNeighborsClassifier\n",
        "from sklearn.metrics import accuracy_score"
      ]
    },
    {
      "cell_type": "code",
      "source": [
        "# звгрузка данных\n",
        "digits = load_digits()\n",
        "X, y = digits.data, digits.target\n",
        "\n",
        "# Нормализаця данных\n",
        "X /= 16.0\n",
        "\n",
        "X_train, X_test, y_train, y_test = train_test_split(X, y, test_size=0.2, random_state=42)"
      ],
      "metadata": {
        "id": "wLGefCsBy89B"
      },
      "execution_count": 9,
      "outputs": []
    },
    {
      "cell_type": "markdown",
      "source": [
        "10 перцептронов, класифицирующх цифры \"эта цифра / другая цифра\""
      ],
      "metadata": {
        "id": "sfJ0RlzyzSLQ"
      }
    },
    {
      "cell_type": "code",
      "source": [
        "class Perceptron:\n",
        "    def __init__(self, input_size, learning_rate=0.01):\n",
        "        self.weights = np.random.uniform(0, 1, input_size)\n",
        "        self.bias = np.random.uniform(0, 1)\n",
        "        self.learning_rate = learning_rate\n",
        "\n",
        "    def activation(self, x):\n",
        "        return 1 if x >= 0 else 0\n",
        "\n",
        "    def predict(self, x):\n",
        "        return self.activation(np.dot(self.weights, x) + self.bias)\n",
        "\n",
        "    def fit(self, X, y, epochs=10):\n",
        "        for epoch in range(epochs):\n",
        "            for i in range(len(X)):\n",
        "                y_pred = self.predict(X[i])\n",
        "                error = y[i] - y_pred\n",
        "                # Обновление весов и смещения\n",
        "                self.weights += self.learning_rate * error * X[i]\n",
        "                self.bias += self.learning_rate * error\n",
        "\n",
        "# Создание и обучение 10 перцептронов для каждой цифры\n",
        "perceptrons = [Perceptron(input_size=X.shape[1]) for _ in range(10)]"
      ],
      "metadata": {
        "id": "5usKIY6-zMgz"
      },
      "execution_count": 10,
      "outputs": []
    },
    {
      "cell_type": "code",
      "source": [
        "for digit in range(10):\n",
        "    y_binary = (y_train == digit).astype(int)  # эта цифра / не эта цифра\n",
        "    perceptrons[digit].fit(X_train, y_binary)\n",
        "\n",
        "correct = 0\n",
        "for i in range(len(X_test)):\n",
        "    predictions = [perceptrons[d].predict(X_test[i]) for d in range(10)]\n",
        "    predicted_label = np.argmax(predictions)\n",
        "    if predicted_label == y_test[i]:\n",
        "        correct += 1\n",
        "\n",
        "print(f\"Accuracy для 10 перцептронов: {correct / len(X_test):.2f}\")"
      ],
      "metadata": {
        "colab": {
          "base_uri": "https://localhost:8080/"
        },
        "id": "5p9l3YWYy867",
        "outputId": "8282d12f-62bc-434d-dd2e-b785ca6c6635"
      },
      "execution_count": 11,
      "outputs": [
        {
          "output_type": "stream",
          "name": "stdout",
          "text": [
            "Accuracy для 10 перцептронов: 0.89\n"
          ]
        }
      ]
    },
    {
      "cell_type": "markdown",
      "source": [
        "## Задание 10"
      ],
      "metadata": {
        "id": "jZ0WdllZzuDw"
      }
    },
    {
      "cell_type": "code",
      "source": [
        "# Обучение и оценка метода KNN\n",
        "knn = KNeighborsClassifier(n_neighbors=3)\n",
        "knn.fit(X_train, y_train)\n",
        "y_pred_knn = knn.predict(X_test)\n",
        "accuracy_knn = accuracy_score(y_test, y_pred_knn)\n",
        "print(f\"Accuracy для knn: {accuracy_knn:.2f}\")"
      ],
      "metadata": {
        "colab": {
          "base_uri": "https://localhost:8080/"
        },
        "id": "6iDDZC2uy82L",
        "outputId": "42914c3c-341b-4a8e-df33-8d415fc4e0d6"
      },
      "execution_count": 15,
      "outputs": [
        {
          "output_type": "stream",
          "name": "stdout",
          "text": [
            "Accuracy для knn: 0.98\n"
          ]
        }
      ]
    },
    {
      "cell_type": "code",
      "source": [
        "# Оценка отдельного перцептрона\n",
        "# Используем конкретный перцептрон под номером, например, 0\n",
        "perceptron_index = 0\n",
        "correct_single = 0\n",
        "for i in range(len(X_test)):\n",
        "    y_pred = perceptrons[perceptron_index].predict(X_test[i])\n",
        "    if (y_pred == 1 and y_test[i] == perceptron_index) or (y_pred == 0 and y_test[i] != perceptron_index):\n",
        "        correct_single += 1\n",
        "\n",
        "accuracy_single_perceptron = correct_single / len(X_test)\n",
        "print(f\"Accuracy для отдельного перцептрона №{perceptron_index}: {accuracy_single_perceptron:.2f}\")\n"
      ],
      "metadata": {
        "colab": {
          "base_uri": "https://localhost:8080/"
        },
        "id": "cX6dv_Sy04Sq",
        "outputId": "317bd46e-8848-4d97-8acc-d44cf8980588"
      },
      "execution_count": 21,
      "outputs": [
        {
          "output_type": "stream",
          "name": "stdout",
          "text": [
            "Accuracy для отдельного перцептрона №0: 0.99\n"
          ]
        }
      ]
    }
  ]
}